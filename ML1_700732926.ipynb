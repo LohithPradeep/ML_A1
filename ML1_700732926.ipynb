{
 "cells": [
  {
   "cell_type": "code",
   "execution_count": 2,
   "id": "7134c8dc",
   "metadata": {},
   "outputs": [
    {
     "name": "stdout",
     "output_type": "stream",
     "text": [
      "min : 19\n",
      "max : 26\n",
      "sorted ages : [19, 19, 20, 22, 24, 24, 24, 25, 25, 26]\n",
      "after adding min and max : [19, 19, 20, 22, 24, 24, 24, 25, 25, 26, 19, 26]\n",
      "median : 24\n",
      "average age : 22.8\n",
      "range : 7\n"
     ]
    }
   ],
   "source": [
    "#Q1\n",
    "#The following is a list of 10 students ages: ages = [19, 22, 19, 24, 20, 25, 26, 24, 25, 24]\n",
    "#Sort the list and find the min and max age\n",
    "#Add the min age and the max age again to the list\n",
    "#Find the median age (one middle item or two middle items divided by two)\n",
    "#Find the average age (sum of all items divided by their number)\n",
    "#Find the range of the ages (max minus min)\n",
    "\n",
    "import statistics\n",
    "ages=[19,22,19,24,20,25,26,24,25,24]\n",
    "#sorting the list using sort function\n",
    "ages.sort()\n",
    "#finding minimum and maximum ages\n",
    "a=min(ages)\n",
    "b=max(ages)\n",
    "print('min :',a)\n",
    "print('max :',b)\n",
    "print(\"sorted ages :\",ages)\n",
    "#adding minimum and maximum ages to the original list\n",
    "ages.extend([a,b])\n",
    "print(\"after adding min and max :\",ages)\n",
    "ages=[19,22,19,24,20,25,26,24,25,24]\n",
    "ages.sort()\n",
    "a=len(ages)\n",
    "#finding median average and range of the given data list \n",
    "if(a%2==0) :\n",
    "    b=int(a/2)\n",
    "    median = int((ages[b]+ages[b-1])/2)\n",
    "else :\n",
    "    b=int(a/2)\n",
    "    median = int(ages[b])\n",
    "print(\"median :\",median)\n",
    "mean = sum (ages) / a\n",
    "print(\"average age :\",mean)\n",
    "print(\"range :\",(max(ages)-min(ages)))"
   ]
  },
  {
   "cell_type": "code",
   "execution_count": 3,
   "id": "6fd245ce",
   "metadata": {},
   "outputs": [
    {
     "name": "stdout",
     "output_type": "stream",
     "text": [
      "<class 'dict'>\n",
      "{'Name': 'Rambo', 'Color': 'black', 'Breed': 'Golden Retriver', 'Legs': 4, 'age': 5}\n",
      "{'first_name': 'Lohith Pradeep', 'last_name': 'Volla', 'gender': 'Male', 'age': 24, 'marital_status': 'Not Married', 'skills': ['Database', 'SQL', 'Dell Boomi'], 'country': 'US', 'city': 'Kansas', 'address': 'Skyler Ridge'}\n",
      "9\n",
      "<class 'list'>\n",
      "['Database', 'SQL', 'Dell Boomi', 'python']\n",
      "['first_name', 'last_name', 'gender', 'age', 'marital_status', 'skills', 'country', 'city', 'address']\n",
      "['Lohith Pradeep', 'Volla', 'Male', 24, 'Not Married', ['Database', 'SQL', 'Dell Boomi', 'python'], 'US', 'Kansas', 'Skyler Ridge']\n"
     ]
    }
   ],
   "source": [
    "#Q2 \n",
    "#Create an empty dictionary called dog\n",
    "dog = {}\n",
    "print(type(dog))\n",
    "\n",
    "#Adding name, color, breed, legs, age to the dog dictionary\n",
    "dog = { \"Name\" : \"Rambo\", \"Color\": \"black\" , \"Breed\" : \"Golden Retriver\", \"Legs\" : 4, \"age\" : 5 } \n",
    "print(dog)\n",
    "\n",
    "#Create a student dictionary and add first_name, last_name, gender, age, marital status,skills, country, city and address as keys for the dictionary\n",
    "Student = {}\n",
    "Student = { \"first_name\": \"Lohith Pradeep\", \"last_name\": \"Volla\", \"gender\":\"Male\", \"age\":24, \"marital_status\": \"Not Married\", \"skills\":[\"Database\",\"SQL\",\"Dell Boomi\"], \"country\":\"US\",\"city\":\"Kansas\",\"address\": \"Skyler Ridge\"}\n",
    "print(Student)\n",
    "\n",
    "#length of the student dictionary\n",
    "print(len(Student))\n",
    "\n",
    "#value of skills and check the data type, it should be a list\n",
    "Student[\"skills\"]\n",
    "print(type(Student[\"skills\"]))\n",
    "\n",
    "#Modifying the skill values by adding one or two skills\n",
    "Student[\"skills\"].append(\"python\")\n",
    "print(Student[\"skills\"])\n",
    "\n",
    "#Getting the dictionary keys as a list\n",
    "print (list(Student.keys()))\n",
    "\n",
    "#Getting the dictionary values as a list\n",
    "print (list(Student.values()))"
   ]
  },
  {
   "cell_type": "code",
   "execution_count": 4,
   "id": "20989466",
   "metadata": {},
   "outputs": [
    {
     "name": "stdout",
     "output_type": "stream",
     "text": [
      "sisters :  ('Akhi', 'Priya', 'Deepika')\n",
      "<class 'tuple'>\n",
      "brothers : ('Jayanth', 'Kalyan', 'Sundeep', 'Sidhu')\n",
      "<class 'tuple'>\n",
      "siblings : ('Akhi', 'Priya', 'Deepika', 'Jayanth', 'Kalyan', 'Sundeep', 'Sidhu')\n",
      "7\n",
      "('Akhi', 'Priya', 'Deepika', 'Jayanth', 'Kalyan', 'Sundeep', 'Sidhu', 'Anil', 'Anjani')\n"
     ]
    }
   ],
   "source": [
    "#Q3\n",
    "#Create a tuple containing names of your sisters and your brothers (imaginary siblings are fine)\n",
    "sisters = (\"Akhi\",\"Priya\",\"Deepika\")\n",
    "print(\"sisters : \",sisters)\n",
    "print(type(sisters))\n",
    "brothers = (\"Jayanth\",\"Kalyan\", \"Sundeep\",\"Sidhu\")\n",
    "print(\"brothers :\", brothers)\n",
    "print(type(brothers))\n",
    "\n",
    "#Join brothers and sisters tuples and assign it to siblings\n",
    "siblings = sisters + brothers\n",
    "print(\"siblings :\", siblings)\n",
    "\n",
    "#How many siblings do you have?\n",
    "print(len(siblings))\n",
    "\n",
    "#Modify the siblings tuple and add the name of your father and mother and assign it to family_members\n",
    " \n",
    "family_members = siblings + ((\"Anil\" , \"Anjani\"))\n",
    "\n",
    "print(family_members)"
   ]
  },
  {
   "cell_type": "code",
   "execution_count": 5,
   "id": "d1e41df3",
   "metadata": {},
   "outputs": [
    {
     "name": "stdout",
     "output_type": "stream",
     "text": [
      "lenghth of set_itcompanies: 7\n",
      "After Adding 'Twitter' to it_companies: ['Facebook', 'Google', 'Microsoft', 'Apple', 'IBM', 'Oracle', 'Amazon', 'Twitter']\n",
      "After inserting multiple IT companies: ['Facebook', 'Google', 'Microsoft', 'Apple', 'IBM', 'Oracle', 'Amazon', 'Twitter', 'Facebook', 'Google', 'Oracle']\n",
      "['Facebook', 'Google', 'Microsoft', 'Apple', 'IBM', 'Oracle', 'Twitter', 'Facebook', 'Google', 'Oracle']\n"
     ]
    }
   ],
   "source": [
    "#Q4.1\n",
    "import numpy\n",
    "it_companies = ['Facebook', 'Google', 'Microsoft', 'Apple', 'IBM', 'Oracle', 'Amazon']\n",
    "#finding length of list\n",
    "print(\"lenghth of set_itcompanies:\",len(it_companies))\n",
    "#adding Twitter to list\n",
    "it_companies.append(\"Twitter\")\n",
    "print(\"After Adding 'Twitter' to it_companies:\",it_companies)\n",
    "#inserting ,multiple IT companies\n",
    "it_companies.extend([\"Facebook\",\"Google\",\"Oracle\"])\n",
    "print(\"After inserting multiple IT companies:\",it_companies)\n",
    "#Removing tcs from the set it_companies\n",
    "it_companies.remove(\"Amazon\")\n",
    "print(it_companies)"
   ]
  },
  {
   "cell_type": "code",
   "execution_count": 6,
   "id": "7915658a",
   "metadata": {},
   "outputs": [
    {
     "name": "stdout",
     "output_type": "stream",
     "text": [
      "{19, 20, 22, 24, 25, 26, 27, 28}\n",
      "{19, 20, 22, 24, 25, 26}\n",
      "True\n",
      "False\n",
      "{19, 20, 22, 24, 25, 26, 27, 28}\n",
      "{27, 28}\n",
      "{19, 22, 24, 25, 26}\n",
      "True\n"
     ]
    }
   ],
   "source": [
    "#Q4.2\n",
    "a = {19, 22, 24, 20, 25, 26}\n",
    "b = {19, 22, 20, 25, 26, 24, 28, 27}\n",
    "age = [22, 19, 24, 25, 26, 24, 25, 24]\n",
    "#adding a and b\n",
    "c=a.union(b) \n",
    "print(c)\n",
    "#Intersection function:\n",
    "print(a.intersection(b))\n",
    "#Is a subset of b\n",
    "print(a.issubset(b))\n",
    "#are a and b disjoint sets\n",
    "print(a.isdisjoint(b))\n",
    "#Joining a with b and b with a\n",
    "c=a.union(b)\n",
    "d=b.union(a)\n",
    "print(c.union(d))\n",
    "#the symmetric difference between a and b\n",
    "print(a.symmetric_difference(b))\n",
    "#deleting the sets completely\n",
    "a.clear()\n",
    "b.clear()\n",
    "#Convert the ages to a set and compare the length of the list and the set.\n",
    "print(set(age))\n",
    "print(len(set(age))<len(age))"
   ]
  },
  {
   "cell_type": "code",
   "execution_count": 7,
   "id": "22e176cc",
   "metadata": {},
   "outputs": [
    {
     "name": "stdout",
     "output_type": "stream",
     "text": [
      "2827.4333882308138\n",
      "188.49555921538757\n",
      "please enter the radius : 30\n",
      "30\n",
      "2827.4333882308138\n"
     ]
    }
   ],
   "source": [
    "#Q5\n",
    "#The radius of a circle is 30 meters.\n",
    "#Calculate the area of a circle and assign the value to a variable name of _area_of_circle_\n",
    "\n",
    "import math \n",
    "radius = 30\n",
    "#area of a circle formula = πr*r\n",
    "_area_of_circle_ = math.pi * (radius*radius)\n",
    "print(_area_of_circle_)\n",
    "\n",
    "#Calculate the circumference of a circle and assign the value to a variable name of _circum_of_circle_\n",
    "#circumference of a circle formula 2πr\n",
    "_circum_of_circle_ = 2*math.pi*radius\n",
    "print(_circum_of_circle_)\n",
    "\n",
    "#Take radius as user input and calculate the area.\n",
    "\n",
    "radius_up = int(input(\"please enter the radius : \"))\n",
    "print(radius_up)\n",
    "_area_of_circle_ = math.pi * (radius_up*radius_up)\n",
    "print(_area_of_circle_)"
   ]
  },
  {
   "cell_type": "code",
   "execution_count": 8,
   "id": "4d495114",
   "metadata": {},
   "outputs": [
    {
     "name": "stdout",
     "output_type": "stream",
     "text": [
      "12\n",
      "10\n"
     ]
    }
   ],
   "source": [
    "#Q6\n",
    "#“I am a teacher and I love to inspire and teach people”\n",
    "#How many unique words have been used in the sentence? Use the split methods and set to get the unique words.\n",
    "\n",
    "line=\"I am a teacher and I love to inspire and teach people\" \n",
    "words_line=line.split(' ') \n",
    "print(len(words_line)) \n",
    "unique_words= set(words_line) \n",
    "unique_words=list(unique_words) \n",
    "print(len(unique_words)) \n"
   ]
  },
  {
   "cell_type": "code",
   "execution_count": 9,
   "id": "f4892e2c",
   "metadata": {},
   "outputs": [
    {
     "name": "stdout",
     "output_type": "stream",
     "text": [
      "Name         \tAge\tCountry     \tCity\n",
      "Asabeneh\t250\tFinland    \tHelsinki\n"
     ]
    }
   ],
   "source": [
    "#7\n",
    "#Use a tab escape sequence to get the following lines.\n",
    "# Name Age Country City\n",
    "# Asabeneh 250 Finland Helsinki\n",
    "\n",
    "print('Name         \\tAge\\tCountry     \\tCity')\n",
    "print('Asabeneh\\t250\\tFinland    \\tHelsinki')"
   ]
  },
  {
   "cell_type": "code",
   "execution_count": 10,
   "id": "8f21d9f7",
   "metadata": {},
   "outputs": [
    {
     "name": "stdout",
     "output_type": "stream",
     "text": [
      "The area of the circle with radius 10 is 314 m square.\n"
     ]
    }
   ],
   "source": [
    "#Q8\n",
    "#Use the string formatting method to display the following:\n",
    "radius = 10\n",
    "area = 3.14 * radius ** 2\n",
    "#“The area of a circle with radius 10 is 314 meters square.”\n",
    "\n",
    "print('The area of the circle with radius %d is %i m square.' %(radius, area))"
   ]
  },
  {
   "cell_type": "code",
   "execution_count": 11,
   "id": "eedcce7e",
   "metadata": {},
   "outputs": [
    {
     "name": "stdout",
     "output_type": "stream",
     "text": [
      "enter the number of students4\n",
      "enter the weights 150\n",
      "enter the weights 155\n",
      "enter the weights 145\n",
      "enter the weights 148\n",
      "Weights of students in lbs : [150, 155, 145, 148]\n",
      "Weights of students in kgs : [68.0388555, 70.30681735, 65.77089365, 67.13167076]\n"
     ]
    }
   ],
   "source": [
    "#Question 9\n",
    "#Write a program, which reads weights (lbs.) of N students into a list and convert these weights to\n",
    "#kilograms in a separate list using Loop. N: No of students (Read input from user)\n",
    "\n",
    "lb_kg_conversion= 0.45359237\n",
    "N=int(input('enter the number of students')) \n",
    "L1=[] \n",
    "for i in range(N): \n",
    " L1.append(int(input('enter the weights ')))\n",
    "print(\"Weights of students in lbs :\", L1) \n",
    "output=[lb_kg_conversion*i for i in L1 ] \n",
    "print(\"Weights of students in kgs :\", output)"
   ]
  }
 ],
 "metadata": {
  "kernelspec": {
   "display_name": "Python 3 (ipykernel)",
   "language": "python",
   "name": "python3"
  },
  "language_info": {
   "codemirror_mode": {
    "name": "ipython",
    "version": 3
   },
   "file_extension": ".py",
   "mimetype": "text/x-python",
   "name": "python",
   "nbconvert_exporter": "python",
   "pygments_lexer": "ipython3",
   "version": "3.9.12"
  }
 },
 "nbformat": 4,
 "nbformat_minor": 5
}
